{
 "cells": [
  {
   "cell_type": "markdown",
   "metadata": {
    "slideshow": {
     "slide_type": "slide"
    }
   },
   "source": [
    "# Two views on regression with PyMC3 and scikit-learn\n",
    "\n",
    "<center><img src=\"images/sklearn.png\" style=\"height: 200px;\"/></center>\n",
    "<center><img src=\"images/PyMC3.png\" style=\"height: 200px;\"/></center>\n",
    "\n",
    "## Colin Carroll\n",
    "### MIT Center for Civic Media"
   ]
  },
  {
   "cell_type": "markdown",
   "metadata": {
    "slideshow": {
     "slide_type": "slide"
    }
   },
   "source": [
    "# Screw it, we're doing three views on regression\n",
    "<center><img src=\"images/sklearn.png\" style=\"height: 200px;\"/></center>\n",
    "<center><img src=\"images/PyMC3.png\" style=\"height: 200px;\"/></center>\n",
    "<center><img src=\"images/numpylogoicon.svg\" style=\"height: 200px;\"/></center>\n"
   ]
  },
  {
   "cell_type": "markdown",
   "metadata": {
    "slideshow": {
     "slide_type": "slide"
    }
   },
   "source": [
    "# \"Linear and Logistic Regression: Still Making 80% of the World's Decisions\"\n",
    "<center><img src=\"images/linear_talk.png\" style=\"height: 500px;\"></img></center>"
   ]
  },
  {
   "cell_type": "markdown",
   "metadata": {
    "slideshow": {
     "slide_type": "slide"
    }
   },
   "source": [
    "# Repeating some good advice\n",
    "\n",
    "- __Understanding NBA Foul Calls with Python__  Austin Rochford\n",
    "\n",
    "- __Diamond: mixed-effects models in Python__  Timothy Sweetser\n",
    "\n",
    "- __Bayesian inference in computational chemistry.__  Chaya D. Stern\n",
    "\n",
    "- __Keynote__  Andrew Gelman\n",
    "\n",
    "- __Turning PyMC3 into scikit-learn__  Nicole Carlson\n",
    "\n",
    "- __An Attempt At Demystifying Bayesian Deep Learning__ Eric J. Ma"
   ]
  },
  {
   "cell_type": "markdown",
   "metadata": {
    "slideshow": {
     "slide_type": "slide"
    }
   },
   "source": [
    "# Good advice to come\n",
    "\n",
    "- __pomegranate: fast and flexible probabilistic modeling in python__  Jacob Schreiber\n",
    "- __Bayesian Statistics from Scratch: Building up to MCMC__  Justin Bozonier\n",
    "- __Stan: Bayesian Modeling and Inference Made Easy__  Bob Carpenter"
   ]
  },
  {
   "cell_type": "markdown",
   "metadata": {
    "slideshow": {
     "slide_type": "slide"
    }
   },
   "source": [
    "# Goals of talk\n",
    "\n",
    "1. How does the Python community think about linear regression?\n",
    "2. How awesome is linear algebra?\n",
    "3. What is probabilistic programming?\n",
    "4. How can I use Bayesian statistics?"
   ]
  },
  {
   "cell_type": "markdown",
   "metadata": {
    "slideshow": {
     "slide_type": "fragment"
    }
   },
   "source": [
    "1. `LinearRegression().fit`\n",
    "2. Super awesome\n",
    "3. <left><img src=\"images/PyMC3.png\" style=\"display: inline; height: 50px;\"/></left>\n",
    "4. How could you not, really?"
   ]
  },
  {
   "cell_type": "markdown",
   "metadata": {
    "slideshow": {
     "slide_type": "slide"
    }
   },
   "source": [
    "# Can you execute this cell?"
   ]
  },
  {
   "cell_type": "code",
   "execution_count": 2,
   "metadata": {
    "slideshow": {
     "slide_type": "-"
    }
   },
   "outputs": [
    {
     "name": "stderr",
     "output_type": "stream",
     "text": [
      " 97%|█████████▋| 1456/1500 [00:00<00:00, 2074.87it/s]/Users/colin/projects/pymc3/pymc3/step_methods/hmc/nuts.py:452: UserWarning: The acceptance probability in chain 0 does not match the target. It is 0.880547055869, but should be close to 0.8. Try to increase the number of tuning steps.\n",
      "  % (self._chain_id, mean_accept, target_accept))\n",
      "100%|██████████| 1500/1500 [00:00<00:00, 2046.50it/s]\n"
     ]
    }
   ],
   "source": [
    "import pymc3 as pm\n",
    "\n",
    "\n",
    "with pm.Model():\n",
    "    pm.Normal('x', mu=0, sd=1)\n",
    "    trace = pm.sample(1000)"
   ]
  }
 ],
 "metadata": {
  "celltoolbar": "Slideshow",
  "kernelspec": {
   "display_name": "Python 3",
   "language": "python",
   "name": "python3"
  },
  "language_info": {
   "codemirror_mode": {
    "name": "ipython",
    "version": 3
   },
   "file_extension": ".py",
   "mimetype": "text/x-python",
   "name": "python",
   "nbconvert_exporter": "python",
   "pygments_lexer": "ipython3",
   "version": "3.6.3"
  }
 },
 "nbformat": 4,
 "nbformat_minor": 2
}
