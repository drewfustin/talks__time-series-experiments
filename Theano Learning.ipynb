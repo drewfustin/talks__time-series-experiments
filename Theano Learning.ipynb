{
 "cells": [
  {
   "cell_type": "code",
   "execution_count": 64,
   "metadata": {
    "scrolled": true
   },
   "outputs": [
    {
     "name": "stdout",
     "output_type": "stream",
     "text": [
      "[ nan  nan   1.  -4.   3.   5.   8.]\n",
      "[ nan  nan  nan  nan   2.   9.   5.]\n"
     ]
    }
   ],
   "source": [
    "import theano\n",
    "import theano.tensor as tt\n",
    "import numpy as np\n",
    "\n",
    "X = tt.vector('X')\n",
    "period = tt.iscalar('period')\n",
    "order = tt.iscalar('order')\n",
    "\n",
    "def sdiff(X, p):\n",
    "    return tt.set_subtensor((X - tt.roll(X, p))[:p], np.nan)\n",
    "\n",
    "result, _ = theano.scan(fn=sdiff,\n",
    "                        outputs_info=X,\n",
    "                        non_sequences=period,\n",
    "                        n_steps=order)\n",
    "\n",
    "nabla = theano.function(inputs=[X, period, order], outputs=result[-1])\n",
    "\n",
    "print(nabla((1, 7, 2, 3, 5, 8, 13), 2, 1))\n",
    "print(nabla((1, 7, 2, 3, 5, 8, 13), 2, 2))"
   ]
  },
  {
   "cell_type": "code",
   "execution_count": 93,
   "metadata": {},
   "outputs": [
    {
     "data": {
      "text/plain": [
       "array([ nan,  nan,  nan,  nan,   2.,   9.,   5.])"
      ]
     },
     "execution_count": 93,
     "metadata": {},
     "output_type": "execute_result"
    }
   ],
   "source": [
    "ts = (1, 7, 2, 3, 5, 8, 13)\n",
    "order = (1, 2, 0)\n",
    "seasonal_order = (0, 1, 0, 2)\n",
    "\n",
    "X = tt.vector('X')\n",
    "p = tt.iscalar('p')\n",
    "d = tt.iscalar('d')\n",
    "q = tt.iscalar('q')\n",
    "P = tt.iscalar('P')\n",
    "D = tt.iscalar('D')\n",
    "Q = tt.iscalar('Q')\n",
    "s = tt.iscalar('s')\n",
    "\n",
    "def sdiff(X, s):\n",
    "    return tt.set_subtensor((X - tt.roll(X, s))[:s], np.nan)\n",
    "\n",
    "result, _ = theano.scan(fn=sdiff, outputs_info=X, non_sequences=s, n_steps=d)\n",
    "\n",
    "nabla = theano.function(inputs=[X, s, d], outputs=result[-1])\n",
    "\n",
    "nabla(ts, seasonal_order[3], order[1])"
   ]
  },
  {
   "cell_type": "code",
   "execution_count": 85,
   "metadata": {},
   "outputs": [
    {
     "data": {
      "text/plain": [
       "array(2)"
      ]
     },
     "execution_count": 85,
     "metadata": {},
     "output_type": "execute_result"
    }
   ],
   "source": [
    "order[1].eval()"
   ]
  },
  {
   "cell_type": "code",
   "execution_count": null,
   "metadata": {},
   "outputs": [],
   "source": [
    "order = tt.iscalar('order')\n",
    "period = tt.iscalar('period')\n",
    "X = tt.vector('X')\n",
    "\n",
    "def nabla(X, order, period):\n",
    "    return tt.roll(X, period)\n",
    "\n",
    "result, updates = theano.scan(fn=nabla,\n",
    "                              outputs_info=X,\n",
    "                              n_steps=order)\n",
    "\n",
    "nabla = theano.function(inputs=[X, order, period], outputs=final_result)\n",
    "\n",
    "nabla((1, 7, 2, 3, 5, 8, 13), 1, 2)"
   ]
  }
 ],
 "metadata": {
  "kernelspec": {
   "display_name": "Python 3",
   "language": "python",
   "name": "python3"
  },
  "language_info": {
   "codemirror_mode": {
    "name": "ipython",
    "version": 3
   },
   "file_extension": ".py",
   "mimetype": "text/x-python",
   "name": "python",
   "nbconvert_exporter": "python",
   "pygments_lexer": "ipython3",
   "version": "3.6.6"
  }
 },
 "nbformat": 4,
 "nbformat_minor": 2
}
